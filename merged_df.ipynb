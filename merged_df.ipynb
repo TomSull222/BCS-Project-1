<<<<<<< HEAD
{
 "cells": [
  {
   "cell_type": "code",
   "execution_count": 1,
   "metadata": {},
   "outputs": [],
   "source": [
    "#import dependencies\n",
    "import pandas as pd\n"
   ]
  },
  {
   "cell_type": "code",
   "execution_count": null,
   "metadata": {},
   "outputs": [],
   "source": [
    "# Read the CSV files\n",
    "movies_metadata_csv = pd.read_csv(\"src/movies_metadata.csv\", low_memory=False)\n",
    "credits_part1_csv = pd.read_csv(\"src/credits_part1.csv\", low_memory=False)\n",
    "credits_part2_csv = pd.read_csv(\"src/credits_part2.csv\", low_memory=False)\n",
    "\n",
    "# Combine the two credits CSVs into a single DataFrame, then drop duplicates ids\n",
    "credits_csv = pd.concat([credits_part1_csv, credits_part2_csv])\n",
    "credits_csv = credits_csv.drop_duplicates(subset='id')\n",
    "\n",
    "#convert ids to numeric\n",
    "movies_metadata_csv[\"id\"] = pd.to_numeric(movies_metadata_csv[\"id\"], errors=\"coerce\")\n",
    "\n",
    "#drop nan ids & remove duplicate ids\n",
    "movies_metadata_csv = movies_metadata_csv.dropna(subset=[\"id\"]).drop_duplicates(subset='id')\n",
    "\n",
    "# Merge movies metadata with credits on 'id' & convert id to int & Set 'id' as the index\n",
    "merged_df = pd.merge(movies_metadata_csv, credits_csv, on='id', how='left').astype({'id': 'int'}).set_index('id')\n",
    "\n",
    "#english only\n",
    "merged_df = merged_df[merged_df[\"original_language\"] == \"en\"]\n",
    "\n",
    "#released on or after 1980-01-01\n",
    "merged_df = merged_df[merged_df[\"release_date\"] >= \"1980-01-01\"]\n",
    "\n",
    "\n",
    "\n",
    "    \n",
    "#display\n",
    "merged_df"
   ]
  },
  {
   "cell_type": "code",
   "execution_count": null,
   "metadata": {},
   "outputs": [],
   "source": []
  }
 ],
 "metadata": {
  "kernelspec": {
   "display_name": "dev",
   "language": "python",
   "name": "python3"
  },
  "language_info": {
   "codemirror_mode": {
    "name": "ipython",
    "version": 3
   },
   "file_extension": ".py",
   "mimetype": "text/x-python",
   "name": "python",
   "nbconvert_exporter": "python",
   "pygments_lexer": "ipython3",
   "version": "3.10.14"
  }
 },
 "nbformat": 4,
 "nbformat_minor": 2
}
=======
{
 "cells": [
  {
   "cell_type": "code",
   "execution_count": 3,
   "metadata": {},
   "outputs": [],
   "source": [
    "#import dependencies\n",
    "import pandas as pd\n",
    "import json"
   ]
  },
  {
   "cell_type": "code",
   "execution_count": 4,
   "metadata": {},
   "outputs": [],
   "source": [
    "# Read CSV files with low memory usage to handle large datasets\n",
    "movies_metadata_csv = pd.read_csv(\"src/movies_metadata.csv\", low_memory=False)\n",
    "credits_part1_csv = pd.read_csv(\"src/credits_part1.csv\", low_memory=False)\n",
    "credits_part2_csv = pd.read_csv(\"src/credits_part2.csv\", low_memory=False)\n",
    "omdb_data_csv = pd.read_csv(\"src/omdb_data.csv\", low_memory=False)\n",
    "\n",
    "# Concatenate credits CSVs, remove duplicate entries based on 'id'\n",
    "credits_csv = pd.concat([credits_part1_csv, credits_part2_csv]).drop_duplicates(subset='id')\n",
    "\n",
    "# Rename 'imdbID' column to 'imdb_id' to match other DataFrames for merging\n",
    "omdb_data_csv.rename(columns={\"imdbID\": \"imdb_id\"}, inplace=True)\n",
    "\n",
    "# Remove duplicate rows in OMDB data based on 'imdb_id', keeping the first occurrence\n",
    "omdb_data_csv.drop_duplicates(subset='imdb_id', keep='first', inplace=True)\n",
    "\n",
    "# Clean the movies metadata:\n",
    "# - Convert 'id' to numeric, setting invalid values to NaN\n",
    "# - Convert 'release_date' to datetime, setting invalid values to NaT\n",
    "# - Drop rows where 'id' is NaN\n",
    "# - Remove duplicate rows based on 'id'\n",
    "movies_metadata_csv = (\n",
    "    movies_metadata_csv\n",
    "    .assign(\n",
    "        id=pd.to_numeric(movies_metadata_csv[\"id\"], errors=\"coerce\"),\n",
    "        release_date=pd.to_datetime(movies_metadata_csv['release_date'], errors='coerce')\n",
    "    )\n",
    "    .dropna(subset=[\"id\"])\n",
    "    .drop_duplicates(subset='id')\n",
    ")\n",
    "\n",
    "# Merge movies metadata with credits DataFrame on 'id', ensuring 'id' is an integer\n",
    "# Set 'id' as the index for the resulting DataFrame\n",
    "merged_df = (\n",
    "    pd.merge(movies_metadata_csv, credits_csv, on='id', how='left')\n",
    "    .astype({'id': 'int'})\n",
    "    .set_index('id')\n",
    ")\n",
    "\n",
    "\n",
    "# Merge the resulting merged DataFrame with OMDB data on 'imdb_id'\n",
    "merged_df = pd.merge(merged_df, omdb_data_csv, on='imdb_id', how='left')\n",
    "\n",
    "# Convert the BoxOffice column to numeric\n",
    "merged_df['BoxOffice'] = pd.to_numeric(merged_df['BoxOffice'].str.replace('$', '').str.replace(',', ''), errors='coerce')\n",
    "\n",
    "# Set \"[]\" in 'cast' and 'crew' to None\n",
    "merged_df[['cast', 'crew']] = merged_df[['cast', 'crew']].replace(\"[]\", None)\n",
    "\n",
    "# Remove commas and convert to numeric imdbVotes\n",
    "merged_df['imdbVotes'] = pd.to_numeric(merged_df['imdbVotes'].str.replace(',', ''), errors='coerce')\n",
    "\n",
    "#sum of numbers in Awards\n",
    "\n",
    "# Extract and sum the numbers directly using a simple function\n",
    "def sum_awards(awards):\n",
    "    if isinstance(awards, str):  # Check if the value is a string\n",
    "        total = sum(int(num) for num in awards.split() if num.isdigit())\n",
    "        return total\n",
    "    return 0  # Return 0 if it's not a string\n",
    "\n",
    "# Apply the function to the Awards column\n",
    "merged_df['Total Awards'] = merged_df['Awards'].apply(sum_awards)\n",
    "\n",
    "\n",
    "\n",
    "# Apply filters to the merged DataFrame:\n",
    "# - Keep only English-language films\n",
    "# - Box Office over 1 million\n",
    "# - Only include films released on or after 1980\n",
    "# - Ensure 'BoxOffice' and 'imdbRating' columns are not missing\n",
    "# - Include only rows where the 'Type' is 'movie'\n",
    "# - Filter films by specific ratings\n",
    "merged_df = merged_df[\n",
    "    (merged_df[\"original_language\"] == \"en\") & \n",
    "    (merged_df[\"BoxOffice\"] > 1000000) & \n",
    "    (merged_df[\"release_date\"] >= \"1980-01-01\") & \n",
    "    (merged_df['imdbRating'].notna()) &  # Ensure imdbRating is available\n",
    "    (merged_df[\"Type\"] == 'movie') & \n",
    "    (merged_df[\"Rated\"].isin([  # Keep only specific Ratings\n",
    "        \"R\", \"Not Rated\", \"PG-13\", \"PG\", \n",
    "        \"Unrated\", \"TV-14\", \"TV-MA\", \"G\", \n",
    "        \"TV-PG\", \"TV-G\"\n",
    "    ]))\n",
    "]\n",
    "\n",
    "# Drop columns that are not needed for analysis\n",
    "merged_df.drop(columns=[\n",
    "    'adult', 'belongs_to_collection', 'genres', 'homepage', \n",
    "    'original_title', 'popularity', 'production_companies', \n",
    "    'production_countries', 'Released', 'spoken_languages', \n",
    "    'status', 'tagline', 'video', 'Title', 'Runtime', \n",
    "    'Plot', 'poster_path', 'Ratings', 'Metascore', \n",
    "    'DVD', 'Production', 'Website', 'Response', \n",
    "    'Season', 'Episode', 'seriesID', 'totalSeasons', \n",
    "    'vote_average', 'vote_count', 'budget', 'revenue'\n",
    "], inplace=True)\n",
    "\n",
    "# Set 'imdb_id' as the index for the final DataFrame\n",
    "merged_df.set_index('imdb_id', inplace=True)\n",
    "\n",
    "# Display the final merged DataFrame .to_csv(\"merged_df.csv\")\n",
    "merged_df\n"
   ]
  }
 ],
 "metadata": {
  "kernelspec": {
   "display_name": "dev",
   "language": "python",
   "name": "python3"
  },
  "language_info": {
   "codemirror_mode": {
    "name": "ipython",
    "version": 3
   },
   "file_extension": ".py",
   "mimetype": "text/x-python",
   "name": "python",
   "nbconvert_exporter": "python",
   "pygments_lexer": "ipython3",
   "version": "3.10.14"
  }
 },
 "nbformat": 4,
 "nbformat_minor": 2
}
>>>>>>> main
