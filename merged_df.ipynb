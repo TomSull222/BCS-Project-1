{
 "cells": [
  {
   "cell_type": "code",
   "execution_count": 21,
   "metadata": {},
   "outputs": [],
   "source": [
    "#import dependencies\n",
    "import pandas as pd"
   ]
  },
  {
   "cell_type": "code",
   "execution_count": null,
   "metadata": {},
   "outputs": [],
   "source": [
    "# Read the CSV files\n",
    "movies_metadata_csv = pd.read_csv(\"src/movies_metadata.csv\", low_memory=False)\n",
    "credits_part1_csv = pd.read_csv(\"src/credits_part1.csv\", low_memory=False)\n",
    "credits_part2_csv = pd.read_csv(\"src/credits_part2.csv\", low_memory=False)\n",
    "omdb_data_csv = pd.read_csv(\"src/omdb_data.csv\", low_memory=False).loc[:, [\"BoxOffice\", \"imdbID\", \"Rated\", \"Awards\", \"imdbRating\", \"imdbVotes\"]]\n",
    "\n",
    "# Combine the two credits CSVs into a single DataFrame and drop duplicate ids\n",
    "credits_csv = pd.concat([credits_part1_csv, credits_part2_csv]).drop_duplicates(subset='id')\n",
    "\n",
    "# Clean and prepare movies metadata: convert ids to numeric, drop NaN ids, and remove duplicates\n",
    "movies_metadata_csv = (\n",
    "    movies_metadata_csv\n",
    "    .assign(id=pd.to_numeric(movies_metadata_csv[\"id\"], errors=\"coerce\"))\n",
    "    .dropna(subset=[\"id\"])\n",
    "    .drop_duplicates(subset='id')\n",
    ")\n",
    "\n",
    "# Merge movies metadata with credits on 'id', convert id to int, and set 'id' as the index\n",
    "merged_df = (\n",
    "    pd.merge(movies_metadata_csv, credits_csv, on='id', how='left')\n",
    "    .astype({'id': 'int'})\n",
    "    .set_index('id')\n",
    ")\n",
    "\n",
    "# Filter for English language films and release dates on or after 1980-01-01\n",
    "merged_df = merged_df[\n",
    "    (merged_df[\"original_language\"] == \"en\") & \n",
    "    (merged_df[\"release_date\"] >= \"1980-01-01\")\n",
    "]\n",
    "\n",
    "# Convert the 'release_date' column to datetime\n",
    "merged_df['release_date'] = pd.to_datetime(merged_df['release_date'], errors='coerce')\n",
    "\n",
    "# Define function to convert genres into a readable list\n",
    "def get_genre_names(genre_str):\n",
    "    return [genre['name'] for genre in eval(genre_str)]\n",
    "\n",
    "# Apply the function to modify the genres column\n",
    "merged_df.loc[:, 'genres'] = merged_df['genres'].apply(get_genre_names)\n",
    "\n",
    "# Convert the 'budget' column to numeric, fill NaN with 0, and convert to integer\n",
    "merged_df['budget'] = pd.to_numeric(merged_df['budget'], errors='coerce').fillna(0).astype(int)\n",
    "\n",
    "# Rename 'imdbID' to 'imdb_id' for merging with omdb_data\n",
    "omdb_data_csv.rename(columns={\"imdbID\": \"imdb_id\"}, inplace=True)\n",
    "\n",
    "# Drop duplicates in both omdb_data and merged_df based on 'imdb_id'\n",
    "omdb_data_csv.drop_duplicates(subset='imdb_id', keep='first', inplace=True)\n",
    "merged_df.drop_duplicates(subset='imdb_id', keep='first', inplace=True)\n",
    "\n",
    "# Merge merged_df with omdb_data_csv on 'imdb_id'\n",
    "merged_df = pd.merge(merged_df, omdb_data_csv, on='imdb_id', how='left')\n",
    "\n",
    "# Display the final merged DataFrame\n",
    "merged_df\n"
   ]
  }
 ],
 "metadata": {
  "kernelspec": {
   "display_name": "dev",
   "language": "python",
   "name": "python3"
  },
  "language_info": {
   "codemirror_mode": {
    "name": "ipython",
    "version": 3
   },
   "file_extension": ".py",
   "mimetype": "text/x-python",
   "name": "python",
   "nbconvert_exporter": "python",
   "pygments_lexer": "ipython3",
   "version": "3.10.14"
  }
 },
 "nbformat": 4,
 "nbformat_minor": 2
}
