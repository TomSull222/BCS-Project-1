{
 "cells": [
  {
   "cell_type": "code",
   "execution_count": 1,
   "metadata": {},
   "outputs": [],
   "source": [
    "#import dependencies\n",
    "import pandas as pd"
   ]
  },
  {
   "cell_type": "code",
   "execution_count": null,
   "metadata": {},
   "outputs": [],
   "source": [
    "# Read the CSV files\n",
    "movies_metadata_csv = pd.read_csv(\"src/movies_metadata.csv\", low_memory=False)\n",
    "credits_part1_csv = pd.read_csv(\"src/credits_part1.csv\", low_memory=False)\n",
    "credits_part2_csv = pd.read_csv(\"src/credits_part2.csv\", low_memory=False)\n",
    "\n",
    "# Combine the two credits CSVs into a single DataFrame, then drop duplicates ids\n",
    "credits_csv = pd.concat([credits_part1_csv, credits_part2_csv]).drop_duplicates(subset='id')\n",
    "\n",
    "# Convert ids to numeric, drop NaN ids & remove duplicate ids in one step\n",
    "movies_metadata_csv = (\n",
    "    movies_metadata_csv\n",
    "    .assign(id=pd.to_numeric(movies_metadata_csv[\"id\"], errors=\"coerce\"))\n",
    "    .dropna(subset=[\"id\"])\n",
    "    .drop_duplicates(subset='id')\n",
    ")\n",
    "\n",
    "# Merge movies metadata with credits on 'id', convert id to int, and set 'id' as the index\n",
    "merged_df = (\n",
    "    pd.merge(movies_metadata_csv, credits_csv, on='id', how='left')\n",
    "    .astype({'id': 'int'})\n",
    "    .set_index('id')\n",
    ")\n",
    "\n",
    "# Filter for English only and released on or after 1980-01-01 in one step\n",
    "merged_df = (\n",
    "    merged_df[\n",
    "        (merged_df[\"original_language\"] == \"en\") & \n",
    "        (merged_df[\"release_date\"] >= \"1980-01-01\")\n",
    "    ]\n",
    ")\n",
    "\n",
    "# Define function to convert genres into readable list\n",
    "def get_genre_names(genre_str):\n",
    "    return [genre['name'] for genre in eval(genre_str)]\n",
    "\n",
    "# Apply the function to modify the genres column in place\n",
    "# Use .loc[] to avoid the \"SettingWithCopyWarning\"\n",
    "merged_df.loc[:, 'genres'] = merged_df['genres'].apply(get_genre_names)\n",
    "\n",
    "\n",
    "# Convert the 'budget' column to numeric, coerce errors to NaN, fill NaN with 0, then convert to integer\n",
    "merged_df['budget'] = pd.to_numeric(merged_df['budget'], errors='coerce').fillna(0).astype(int)\n",
    "\n",
    "# Convert the 'release_date' column to datetime in place\n",
    "merged_df['release_date'] = pd.to_datetime(merged_df['release_date'], errors='coerce')\n",
    "\n",
    "\n",
    "\n",
    "#Display\n",
    "merged_df"
   ]
  }
 ],
 "metadata": {
  "kernelspec": {
   "display_name": "dev",
   "language": "python",
   "name": "python3"
  },
  "language_info": {
   "codemirror_mode": {
    "name": "ipython",
    "version": 3
   },
   "file_extension": ".py",
   "mimetype": "text/x-python",
   "name": "python",
   "nbconvert_exporter": "python",
   "pygments_lexer": "ipython3",
   "version": "3.10.14"
  }
 },
 "nbformat": 4,
 "nbformat_minor": 2
}
