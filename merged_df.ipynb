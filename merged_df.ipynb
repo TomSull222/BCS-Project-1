{
 "cells": [
  {
   "cell_type": "code",
   "execution_count": 1,
   "metadata": {},
   "outputs": [],
   "source": [
    "#import dependencies\n",
    "import pandas as pd\n"
   ]
  },
  {
   "cell_type": "code",
   "execution_count": null,
   "metadata": {},
   "outputs": [],
   "source": [
    "# Read the CSV files\n",
    "movies_metadata_csv = pd.read_csv(\"src/movies_metadata.csv\", low_memory=False)\n",
    "credits_part1_csv = pd.read_csv(\"src/credits_part1.csv\", low_memory=False)\n",
    "credits_part2_csv = pd.read_csv(\"src/credits_part2.csv\", low_memory=False)\n",
    "\n",
    "# Combine the two credits CSVs into a single DataFrame, then drop duplicates ids\n",
    "credits_csv = pd.concat([credits_part1_csv, credits_part2_csv])\n",
    "credits_csv = credits_csv.drop_duplicates(subset='id')\n",
    "\n",
    "#convert ids to numeric\n",
    "movies_metadata_csv[\"id\"] = pd.to_numeric(movies_metadata_csv[\"id\"], errors=\"coerce\")\n",
    "\n",
    "#drop nan ids & remove duplicate ids\n",
    "movies_metadata_csv = movies_metadata_csv.dropna(subset=[\"id\"]).drop_duplicates(subset='id')\n",
    "\n",
    "# Merge movies metadata with credits on 'id' & convert id to int & Set 'id' as the index\n",
    "merged_df = pd.merge(movies_metadata_csv, credits_csv, on='id', how='left').astype({'id': 'int'}).set_index('id')\n",
    "\n",
    "#english only\n",
    "merged_df = merged_df[merged_df[\"original_language\"] == \"en\"]\n",
    "\n",
    "#released on or after 1980-01-01\n",
    "merged_df = merged_df[merged_df[\"release_date\"] >= \"1980-01-01\"]\n",
    "\n",
    "\n",
    "\n",
    "    \n",
    "#display\n",
    "merged_df"
   ]
  },
  {
   "cell_type": "code",
   "execution_count": null,
   "metadata": {},
   "outputs": [],
   "source": []
  }
 ],
 "metadata": {
  "kernelspec": {
   "display_name": "dev",
   "language": "python",
   "name": "python3"
  },
  "language_info": {
   "codemirror_mode": {
    "name": "ipython",
    "version": 3
   },
   "file_extension": ".py",
   "mimetype": "text/x-python",
   "name": "python",
   "nbconvert_exporter": "python",
   "pygments_lexer": "ipython3",
   "version": "3.10.14"
  }
 },
 "nbformat": 4,
 "nbformat_minor": 2
}
